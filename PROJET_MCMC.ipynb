{
 "cells": [
  {
   "cell_type": "markdown",
   "metadata": {
    "colab_type": "text",
    "id": "4dkqcpT-fT3I"
   },
   "source": [
    "# Enumération des carrés latins et grilles de sudoku\n",
    "#### Bennaceur Mehdi, Marck Jérémy et Ané Benoit"
   ]
  },
  {
   "cell_type": "markdown",
   "metadata": {
    "colab_type": "text",
    "id": "dYz7ZQ8Kf26G"
   },
   "source": [
    "## Introduction\n",
    "Notre projet a pour ambition de trouver le nombre de carrés latins possibles pour une dimension donnée. Un carré latin est un tableau de $n$ lignes et $n$ colonnes remplies de $n$ éléments distincts où chaque ligne et chaque colonne ne contient qu'une seule fois l'élément $k \\in [1,n]$. Le plus souvent, les $n$ éléments utilisés sont les entiers compris entre 0 et $n-1$. Le tableau suivant est un exemple de carré latin 4*4 : \\begin{bmatrix}0&1&2&3\\\\1&2&3&0\\\\2&3&0&1\\\\3&0&1&2\\\\\\end{bmatrix}\n"
   ]
  },
  {
   "cell_type": "markdown",
   "metadata": {
    "colab_type": "text",
    "id": "6CnqtxKehFIe"
   },
   "source": [
    "Le problème de l'énumération des grilles possibles est que le nombre de possibilités explosent rapidement et qu'il n'y a pas de formule simple pour calculer le nombre de cas envisageable. Nous pouvons donner les bornes du nombre de carrés latins possibles $\\displaystyle L_{k}$ : $\\displaystyle \\prod_{i=1}^{k}\\left(i!\\right)^{k/i}\\geq L_{k}\\geq {\\frac {\\left(k!\\right)^{2k}}{k^{k^{2}}}}$.\n",
    "\n",
    "On peut montrer que cette énumération est un problème NP complet.\n",
    "La solution la plus grande résolue de manière exacte à cette date est de taille 11 et a environ $7.77×10^{47}$ solutions.\n",
    "(Ce problème reste un point de recherche encore aujourd'hui dans la mesure où il est impossible de donner l'ensemble des cas possibles pour une dimension supérieure ou égale à 12)."
   ]
  },
  {
   "cell_type": "code",
   "execution_count": 9,
   "metadata": {
    "colab": {},
    "colab_type": "code",
    "id": "WRwDYefPwO7v"
   },
   "outputs": [],
   "source": [
    "import numpy as np\n",
    "import math\n",
    "import matplotlib.pyplot as plt\n",
    "from PIL import Image"
   ]
  },
  {
   "cell_type": "markdown",
   "metadata": {
    "colab_type": "text",
    "id": "6jXaypnEorzJ"
   },
   "source": [
    "Pour comparer dans la suite nos estimateurs aux bornes théoriques écrites plus haut, on code ci dessous une fonction permettant de les obtenir. "
   ]
  },
  {
   "cell_type": "code",
   "execution_count": 0,
   "metadata": {
    "colab": {},
    "colab_type": "code",
    "id": "c3vDM367oq4Z"
   },
   "outputs": [],
   "source": [
    "def bornes(k):\n",
    "    inf = (math.factorial(k)**(2*k))/(k**(k**2))\n",
    "    sup = 1\n",
    "    for i in range(1, k+1):\n",
    "        sup = sup * (math.factorial(i)**(k/i))\n",
    "    return inf, sup"
   ]
  },
  {
   "cell_type": "code",
   "execution_count": 0,
   "metadata": {
    "colab": {
     "base_uri": "https://localhost:8080/",
     "height": 202
    },
    "colab_type": "code",
    "executionInfo": {
     "elapsed": 679,
     "status": "ok",
     "timestamp": 1578411493875,
     "user": {
      "displayName": "Mehdi Bennaceur",
      "photoUrl": "",
      "userId": "06087535703550889065"
     },
     "user_tz": -60
    },
    "id": "RzVnhhrIp5sv",
    "outputId": "6591a76e-4f5f-4d1a-87cd-e5d547dd0f7b"
   },
   "outputs": [
    {
     "name": "stdout",
     "output_type": "stream",
     "text": [
      "(1.0, 1.0)\n",
      "(1.0, 2.0)\n",
      "(2.3703703703703702, 16.970562748477143)\n",
      "(25.62890625, 1046.6614614713121)\n",
      "(2077.6019874734407, 714396.0391053179)\n",
      "(1881676.4231589208, 7621831476.457839)\n",
      "(26559723502.564575, 1704118412100761.2)\n",
      "(7772651709434129.0, 1.0302647256244118e+22)\n",
      "(6.054681844500374e+22, 2.1102332772164454e+30)\n",
      "(1.5676916946577623e+31, 1.792518110238015e+40)\n",
      "(1.6478242606843205e+41, 7.585175356413695e+51)\n"
     ]
    }
   ],
   "source": [
    "for k in range(1, 12):\n",
    "    print(bornes(k))"
   ]
  },
  {
   "cell_type": "markdown",
   "metadata": {
    "colab_type": "text",
    "id": "p0CdZbnU2bnd"
   },
   "source": [
    "# Méthodes de calculs et Protocoles"
   ]
  },
  {
   "cell_type": "markdown",
   "metadata": {
    "colab_type": "text",
    "id": "LGTO2Mc8wkiJ"
   },
   "source": [
    "**Quelques notations** \n",
    "\n",
    "- $L_{k}$ : Espace des carrés latins pour une taille $k$ et $C_{k} = |L_{k}|$.\n",
    "\n",
    "- $H_{k}$ : Espace des matrices carrées de taille $k$ telles que chaque ligne est une permutation de $\\{1, \\dots, k\\}$ et $P_{k} = |H_{k}|$.\n",
    "\n",
    "Notons que $L_{k} \\subset H_{k}$ et que $P_{k} = k!^{k}$. Notre objectif est d'approximer $C_{k}$. Nous verrons plus tard comment échantilloner à partir de $H_{k}$.\n",
    "\n",
    "- $S(M)$ : Fonction de pénalité telle que $\\forall M \\in H_{k}$, $\\displaystyle{S(M) = \\sum_{Colonnes M_{c}} (k - n_{unique}(M_{c}))}$ où $n_{unique}(M_{c})$ est le nombre de valeurs uniques dans la colonne $M_{c}$. En d'autres termes, nous regardons le nombre de chiffres différents entre toutes les paires de colonnes de M. Remarquons que $S(M) = 0 \\iff M \\in L_{k}$. \n",
    " \n",
    "Maintenant, en utlisant le cours de MCMC (SMCsamplers, Chapitre 10 SMC), nous pouvons définir $V(\\lambda) = \\displaystyle{\\sum_{M \\in H_{k}}} e^{-\\lambda \\cdot S(M)}$.\n",
    "\n",
    "Nous pouvons voir la valeur $e^{-\\lambda \\cdot S(M)}$ comme le poids $w_{t}^n$ du cours.\n",
    "\n",
    "Nous remarquons immédiatement que $V(0) = P_{k}$ et $\\displaystyle{\\lim_{\\lambda\\to\\infty} V(\\lambda) = C_{k}}$. Une méthode d'estimation de $C_{k}$ pourrait être d'estimer $\\hat{p_{k}} := \\displaystyle{\\lim_{\\lambda\\to\\infty}} E[e^{-\\lambda \\cdot S(M)}]$ pour $M \\in H_{k}$. Cette valeur correspond à la proportion de carrés latins dans $H_{k}$. Nous pouvons ainsi déduire $C_{k} = \\hat{p_{k}} \\cdot P_{k}$. \n",
    "Nous avons implémenté cette méthode et, comme on aurait pu imaginer, nous voyons que cette méthode produit de grosses erreurs avec de grandes dimensions (même pour des petites) en raison de la forte différence entre $C_{k}$ et $P_{k}$.\n"
   ]
  },
  {
   "cell_type": "markdown",
   "metadata": {},
   "source": [
    "**Avantage du tempering par rapport au monte carlo**"
   ]
  },
  {
   "cell_type": "code",
   "execution_count": 11,
   "metadata": {},
   "outputs": [
    {
     "data": {
      "text/plain": [
       "<matplotlib.image.AxesImage at 0x27ff4a99278>"
      ]
     },
     "execution_count": 11,
     "metadata": {},
     "output_type": "execute_result"
    },
    {
     "data": {
      "image/png": "[encoded data removed]",
      "text/plain": [
       "<Figure size 432x288 with 1 Axes>"
      ]
     },
     "metadata": {
      "needs_background": "light"
     },
     "output_type": "display_data"
    }
   ],
   "source": [
    "img = Image.open('mc.PNG')\n",
    "plt.imshow(img)"
   ]
  },
  {
   "cell_type": "code",
   "execution_count": 12,
   "metadata": {},
   "outputs": [
    {
     "data": {
      "text/plain": [
       "<matplotlib.image.AxesImage at 0x27ff4f11588>"
      ]
     },
     "execution_count": 12,
     "metadata": {},
     "output_type": "execute_result"
    },
    {
     "data": {
      "image/png": "[encoded data removed]",
      "text/plain": [
       "<Figure size 432x288 with 1 Axes>"
      ]
     },
     "metadata": {
      "needs_background": "light"
     },
     "output_type": "display_data"
    }
   ],
   "source": [
    "img = Image.open('tempering.PNG')\n",
    "plt.imshow(img)"
   ]
  },
  {
   "cell_type": "markdown",
   "metadata": {
    "colab_type": "text",
    "id": "kw5t_hMcy6iP"
   },
   "source": [
    "# Approche naïve"
   ]
  },
  {
   "cell_type": "markdown",
   "metadata": {
    "colab_type": "text",
    "id": "FdJMhzE4KaBt"
   },
   "source": [
    "Elle se présente de la façon suivante : \n",
    "* 1) Tirons N matrices de $H_{k}$ : chaque ligne comme une permutation de {1...k} et indépendante les unes des autres. On négligera la contrainte sur les colonnes. \n",
    "* 2)\n",
    "*   Pour n = 1,...,N (Pour chaque matrice générée $M_{n}$):  \n",
    "      * 1) Calculer $U_n$ de chaque matrice avec la formule $ U_n = e^{-\\lambda \\times  S(M_n)}$ \n",
    "      * 2) Calculer la proportion de carrés latins via $\\hat{p} = \\frac{1}{N}\\displaystyle{\\sum_{n = 1}^N}U_n $ \n",
    "      \n",
    "Ainsi, on obtient un estimateur avec le principe suivant : $\\hat{C_k} = \\hat{p}*P_k$"
   ]
  },
  {
   "cell_type": "code",
   "execution_count": 0,
   "metadata": {
    "colab": {},
    "colab_type": "code",
    "id": "gmTi_A_WqP-o"
   },
   "outputs": [],
   "source": [
    "true_values = {2:2, 3:12, 4:576, 5:161280, 6:812851200, 7:61479419904000, 8:108776032459082956800, 9:5524751496156892842531225600,10:9982437658213039871725064756920320000, \n",
    "               11:776966836171770144107444346734230682311065600000}\n",
    "\n",
    "def E(square):\n",
    "    \n",
    "    e = 0\n",
    "    size = square.shape[0]\n",
    "    for j in range(size):\n",
    "        n_unique = len(set(square[:, j]))\n",
    "        e += size - n_unique \n",
    "    return e\n",
    "\n",
    "def naive_estimator(n, size, lbd):\n",
    "    echant = [np.array(list(np.random.permutation(size) for i in range(size))) for n in range(n)]\n",
    "    exp = []\n",
    "    for mat in echant:\n",
    "        exp.append(np.exp(-lbd*E(mat)))\n",
    "    prop_hat = np.mean(exp)\n",
    "    estimator = math.factorial(size)**size * prop_hat\n",
    "    #print(\"Estimated :\", estimator)\n",
    "    #print(\"True value :\", true_values[size])\n",
    "    return estimator\n",
    "\n",
    "def get_estimates_naive(n_iter, n, size, lbd):\n",
    "    est = []\n",
    "    for k in range(n_iter):\n",
    "        l = naive_estimator(n, size, lbd)\n",
    "        est.append(l)\n",
    "    return est \n",
    "\n",
    "def viz_estimate_naive(est, dimension, true):\n",
    "    plt.boxplot(est)\n",
    "    plt.plot(1, true, marker='o', markersize=10, label='True value') \n",
    "    plt.legend()\n",
    "    plt.title(\"Boxplot - Estimation naïve du nombre de carrés latins en dimension \" + str(dimension), pad=20)\n",
    "    plt.show()"
   ]
  },
  {
   "cell_type": "code",
   "execution_count": 0,
   "metadata": {
    "colab": {
     "base_uri": "https://localhost:8080/",
     "height": 295
    },
    "colab_type": "code",
    "executionInfo": {
     "elapsed": 20602,
     "status": "ok",
     "timestamp": 1578408935069,
     "user": {
      "displayName": "Mehdi Bennaceur",
      "photoUrl": "",
      "userId": "06087535703550889065"
     },
     "user_tz": -60
    },
    "id": "4ZQVc8A1LgzA",
    "outputId": "2ca0ad3a-d90b-42dc-96d9-2e514135d046"
   },
   "outputs": [
    {
     "data": {
      "image/png": "[encoded data removed]",
      "text/plain": [
       "<Figure size 432x288 with 1 Axes>"
      ]
     },
     "metadata": {
      "tags": []
     },
     "output_type": "display_data"
    }
   ],
   "source": [
    "est = get_estimates_naive(100, 10000,  2, lbd=20)\n",
    "viz_estimate_naive(est, 2, 2)"
   ]
  },
  {
   "cell_type": "code",
   "execution_count": 0,
   "metadata": {
    "colab": {
     "base_uri": "https://localhost:8080/",
     "height": 295
    },
    "colab_type": "code",
    "executionInfo": {
     "elapsed": 46466,
     "status": "ok",
     "timestamp": 1578408963064,
     "user": {
      "displayName": "Mehdi Bennaceur",
      "photoUrl": "",
      "userId": "06087535703550889065"
     },
     "user_tz": -60
    },
    "id": "-VwVoZQKQqqV",
    "outputId": "5d5cd0c3-d4de-4dfd-95b7-88d6a90d6bc9"
   },
   "outputs": [
    {
     "data": {
      "image/png": "[encoded data removed]",
      "text/plain": [
       "<Figure size 432x288 with 1 Axes>"
      ]
     },
     "metadata": {
      "tags": []
     },
     "output_type": "display_data"
    }
   ],
   "source": [
    "est = get_estimates_naive(100, 10000, 3, lbd=20)\n",
    "viz_estimate_naive(est, 3, 12)"
   ]
  },
  {
   "cell_type": "code",
   "execution_count": 0,
   "metadata": {
    "colab": {
     "base_uri": "https://localhost:8080/",
     "height": 295
    },
    "colab_type": "code",
    "executionInfo": {
     "elapsed": 82237,
     "status": "ok",
     "timestamp": 1578408999551,
     "user": {
      "displayName": "Mehdi Bennaceur",
      "photoUrl": "",
      "userId": "06087535703550889065"
     },
     "user_tz": -60
    },
    "id": "uRrnQKgRQqm5",
    "outputId": "e9d4d557-466c-4bd9-8c7a-2a7f2401ad32"
   },
   "outputs": [
    {
     "data": {
      "image/png": "[encoded data removed]",
      "text/plain": [
       "<Figure size 432x288 with 1 Axes>"
      ]
     },
     "metadata": {
      "tags": []
     },
     "output_type": "display_data"
    }
   ],
   "source": [
    "est = get_estimates_naive(100, 10000, 4, lbd=20)\n",
    "viz_estimate_naive(est, 4, 576)"
   ]
  },
  {
   "cell_type": "code",
   "execution_count": 0,
   "metadata": {
    "colab": {
     "base_uri": "https://localhost:8080/",
     "height": 295
    },
    "colab_type": "code",
    "executionInfo": {
     "elapsed": 126963,
     "status": "ok",
     "timestamp": 1578409045197,
     "user": {
      "displayName": "Mehdi Bennaceur",
      "photoUrl": "",
      "userId": "06087535703550889065"
     },
     "user_tz": -60
    },
    "id": "39gT1HFTQqiY",
    "outputId": "2b772c32-f61d-443a-c001-bad65d348a71"
   },
   "outputs": [
    {
     "data": {
      "image/png": "[encoded data removed]",
      "text/plain": [
       "<Figure size 432x288 with 1 Axes>"
      ]
     },
     "metadata": {
      "tags": []
     },
     "output_type": "display_data"
    }
   ],
   "source": [
    "est = get_estimates_naive(100, 10000, 5, lbd=20)\n",
    "viz_estimate_naive(est, 5, 161280)"
   ]
  },
  {
   "cell_type": "code",
   "execution_count": 0,
   "metadata": {
    "colab": {
     "base_uri": "https://localhost:8080/",
     "height": 295
    },
    "colab_type": "code",
    "executionInfo": {
     "elapsed": 180682,
     "status": "ok",
     "timestamp": 1578409099822,
     "user": {
      "displayName": "Mehdi Bennaceur",
      "photoUrl": "",
      "userId": "06087535703550889065"
     },
     "user_tz": -60
    },
    "id": "8encga2lQqex",
    "outputId": "4a67ecca-59ae-427f-c8e4-65dfde824664"
   },
   "outputs": [
    {
     "data": {
      "image/png": "[encoded data removed]",
      "text/plain": [
       "<Figure size 432x288 with 1 Axes>"
      ]
     },
     "metadata": {
      "tags": []
     },
     "output_type": "display_data"
    }
   ],
   "source": [
    "est = get_estimates_naive(100, 10000, 6, lbd=20)\n",
    "viz_estimate_naive(est, 6, 812851200)"
   ]
  },
  {
   "cell_type": "markdown",
   "metadata": {
    "colab_type": "text",
    "id": "bUxcWP5mGTUx"
   },
   "source": [
    "**Conclusion** \n",
    "On remarque que la méthode naïve est plutôt satisfaisant pour les petites dimensions mais ne fonctionne plus du tout à partir de $k = 5$. En effet, le nombre d'itérations commence à être trop petit au vu de la taille de l'espace échantillonné.\n"
   ]
  },
  {
   "cell_type": "markdown",
   "metadata": {
    "colab_type": "text",
    "id": "RSFZNjEo1ZFx"
   },
   "source": [
    "On peut aussi regarder la taille de l'espace echantilloné pour relativiser nos résultats."
   ]
  },
  {
   "cell_type": "code",
   "execution_count": 0,
   "metadata": {
    "colab": {},
    "colab_type": "code",
    "id": "BxwGvw6pzfER"
   },
   "outputs": [],
   "source": [
    "hk = lambda x : math.factorial(x)**x"
   ]
  },
  {
   "cell_type": "code",
   "execution_count": 0,
   "metadata": {
    "colab": {
     "base_uri": "https://localhost:8080/",
     "height": 205
    },
    "colab_type": "code",
    "executionInfo": {
     "elapsed": 1010,
     "status": "ok",
     "timestamp": 1578414286923,
     "user": {
      "displayName": "Mehdi Bennaceur",
      "photoUrl": "",
      "userId": "06087535703550889065"
     },
     "user_tz": -60
    },
    "id": "Rm4eNmbcznVa",
    "outputId": "534b1c35-cdf1-4d1b-8c9a-d376b4a62469"
   },
   "outputs": [
    {
     "name": "stdout",
     "output_type": "stream",
     "text": [
      "['4']\n",
      "['216']\n",
      "['331', '776']\n",
      "['248', '832', '000', '00']\n",
      "['139', '314', '069', '504', '000', '000']\n",
      "['826', '064', '112', '539', '035', '238', '400', '000', '00']\n",
      "['698', '496', '424', '714', '151', '412', '362', '914', '037', '760', '000', '000', '0']\n",
      "['109', '110', '688', '415', '571', '316', '480', '344', '899', '355', '894', '085', '582', '848', '000', '000', '000']\n",
      "['395', '940', '866', '122', '425', '193', '243', '875', '570', '782', '668', '457', '763', '038', '822', '400', '000', '000', '000', '000', '000', '000']\n",
      "['409', '933', '016', '554', '924', '328', '182', '440', '935', '903', '164', '918', '932', '547', '530', '146', '724', '293', '451', '448', '320', '000', '000', '000', '000', '000', '000', '000']\n"
     ]
    }
   ],
   "source": [
    "for k in range(2, 12):\n",
    "    a = str(hk(k))\n",
    "    n=3\n",
    "    print([a[i:i+n] for i in range(0, len(a), n)])"
   ]
  },
  {
   "cell_type": "markdown",
   "metadata": {
    "colab_type": "text",
    "id": "WyJNkqeevzPw"
   },
   "source": [
    "# Méthode de Tempering"
   ]
  },
  {
   "cell_type": "markdown",
   "metadata": {
    "colab_type": "text",
    "id": "gjWIhsKq0KME"
   },
   "source": [
    "**Méthodologie** \n",
    "\n",
    "\n",
    "Pour traîter le problème que nous venons d'illustrer, nous introduisons une séquences de distribution intermédiaires (comme présenté dans le cours et par Del Moral, 2006) quis ont \"assez proches\" entre eux. Plus particulièrement : \n",
    "\n",
    "Nous introduisons $0=\\lambda_{1} < \\lambda_{2} < \\dots < \\lambda_{T}$. Par la suite, nous avons $\\frac{V(\\lambda_{i})}{V(\\lambda_{i-1})} = E[e^{-(\\lambda_{i-1} - \\lambda_{i}) \\dot S}]$\n",
    "\n",
    "Ces termes peuvent être calculés par simulation de Monte Carlo sans avoir le problème de savoir si les $\\lambda_{i}$ sont suffisamment proches de façon à ce que les distributions soient aussi assez proches.\n",
    "\n",
    "Pour obtenir notre estimateur final, nous utilisons le fait que $\\frac{V(\\lambda)}{V(0)} = \\displaystyle{\\prod_{i}} \\frac{V(\\lambda_{i})}{V(\\lambda_{i-1})} $ \n",
    "\n",
    "Notre algorithme se présente sous la forme suivante : \n",
    "* 1) Tirons N particules de $H_{k}$ : chaque ligne comme une permutation de {1...k} et indépendante les unes des autres. On négligera la contrainte sur les colonnes. \n",
    "* 2) Pour t = 1,...,T : \n",
    "*   Pour n = 1,...,N (Pour chaque particule $M_{n}$):  \n",
    "      * 1) Générer une matrice $M_{n}'$ à partir de $M_{n}$ (Chaîne de Markov) en sélectionnant 2 colonnes et 1 ligne de façon aléatoire pour échanger les 2 valeurs \n",
    "      * 2) Calculer une probabilité d'acceptation via $A(M_{n},M_{n}')$ =$min(1,e^{-(\\lambda_{t-1}-\\lambda_{t})\\dot(S(M_{n})-S(M_{n}'))})$ \n",
    "      * 3) Accepter le changement (i.e. que $M_{n}$ devienne $M_{n}'$) à travers un principe Metropolis-Hastings : $M_{n}={\\begin{cases}M_{n}',&{\\text{avec probabilité}}\\,\\,A(M_{n},M_{n}') \\\\M_{n},&{\\text{avec probabilité}}\\,\\,1-A(M_{n},M_{n}') \\end{cases}}$ \n",
    "\n",
    "A chaque itération, nous gardons les quantités désirées pour calculer le ratio."
   ]
  },
  {
   "cell_type": "code",
   "execution_count": 0,
   "metadata": {
    "colab": {},
    "colab_type": "code",
    "id": "uW79Q5THv4BD"
   },
   "outputs": [],
   "source": [
    "class LatinSquarePTemp:\n",
    "    \"\"\" size : int, size of latin square. k for k X k squares.\n",
    "        sample_size : number of particules at time 0\n",
    "    \"\"\"\n",
    "    def __init__(self, size, sample_size):\n",
    "        self.size = size \n",
    "        self.sample = np.array([list(np.random.permutation(size) for i in range(size)) for n in range(sample_size)])\n",
    "        self.estimators = []\n",
    "        self.sample_size = sample_size\n",
    "        self.ess = []\n",
    "        self.true_values = {2:2, 3:12, 4:576, 5:161280, 6:812851200, 7:61479419904000, 8:108776032459082956800, 9:5524751496156892842531225600, \n",
    "                            10:9982437658213039871725064756920320000, 11:776966836171770144107444346734230682311065600000}\n",
    "        self.a = []\n",
    "\n",
    "    def E(self, square):\n",
    "        \n",
    "        e = 0\n",
    "        for j in range(self.size):\n",
    "            n_unique = len(set(square[:, j]))\n",
    "            e += self.size - n_unique \n",
    "        return e\n",
    "       \n",
    "    \n",
    "    def move_one_particle(self, square, new_lbd, old_lbd):\n",
    "        idx = [i for i in range(self.size)]\n",
    "        cols = np.random.choice(idx, 2, replace = False)\n",
    "        row = np.array(list(np.random.choice(idx, 1)) * 2)\n",
    "        positions = list(zip(row, cols))\n",
    "        v1, v2 = square[row[0], cols[0]], square[row[1], cols[1]]\n",
    "        new_square = square.copy()\n",
    "        new_square[row[0], cols[0]] = v2\n",
    "        new_square[row[1], cols[1]] = v1\n",
    "        \n",
    "        old_energy = self.E(square)\n",
    "        new_energy = self.E(new_square)\n",
    "        acceptance = min(1, np.exp(- (new_lbd - old_lbd) * (old_energy - new_energy)))\n",
    "        self.a.append(acceptance)\n",
    "        u = np.random.uniform()\n",
    "        if u <= acceptance:\n",
    "            return new_square, acceptance\n",
    "        return square, acceptance\n",
    "    \n",
    "    def move_all_particle(self, new_lbd, old_lbd):\n",
    "        accepted = []\n",
    "        for i in range(self.sample_size):\n",
    "            move = self.move_one_particle(self.sample[i], new_lbd, old_lbd)\n",
    "            self.sample[i] = move[0]\n",
    "            accepted.append(move[1])\n",
    "        #self.accepted\n",
    "        return accepted\n",
    "            \n",
    "    #def find_next_lambda(self):\n",
    "        \n",
    "    \n",
    "    def smc_temp(self, n_iter):\n",
    "        lbds = [0, 0.001, 0.009, 0.0015, 0.00243, 0.0030, 0.0035, 0.0044, 0.0053, 0.0072, 0.0111, 0.02, 0.025, 0.03, 0.05, 0.067, 0.08, 0.14, 0.37, 0.6, 1, 1.6, 1.8, 2]\n",
    "        n_iter = len(lbds)\n",
    "        z = []\n",
    "        acceptance_rate = {}\n",
    "        for t in range(1, n_iter):\n",
    "            a = self.move_all_particle(lbds[t], lbds[t-1])\n",
    "            acceptance_rate[t] = np.mean(a)\n",
    "            #lbd_t1 = self.find_next_lambda()\n",
    "            z_step = np.sum([np.exp(-lbds[t] * self.E(self.sample[i])) for i in range(self.sample_size)])\n",
    "            z.append(z_step)\n",
    "        self.z = z\n",
    "        self.acceptance_rate = acceptance_rate\n",
    "        \n",
    "    def compute_estimate(self):\n",
    "        prod = 1\n",
    "        for i in range(1, len(self.z)):\n",
    "            prod = prod * self.z[i]/self.z[i-1]\n",
    "        estimate = prod * (math.factorial(self.size)**self.size)\n",
    "        return estimate"
   ]
  },
  {
   "cell_type": "code",
   "execution_count": 0,
   "metadata": {
    "colab": {},
    "colab_type": "code",
    "id": "p42OPhP1v3-Q"
   },
   "outputs": [],
   "source": [
    "def get_estimates(n, size, sample_size, n_iter):\n",
    "    est = []\n",
    "    for k in range(n):\n",
    "        l = LatinSquarePTemp(size, sample_size)\n",
    "        l.smc_temp(n_iter)\n",
    "        est.append(l.compute_estimate())\n",
    "    return est \n",
    "\n",
    "def viz_estimate(est, size, true):\n",
    "    plt.boxplot(est, showfliers=False)\n",
    "    plt.plot(1, true, marker='o', markersize=10, label='True value') \n",
    "    inf, sup = bornes(size)\n",
    "    plt.hlines(inf, xmin=0, xmax=2, color='green', label='Bornes')\n",
    "    plt.hlines(sup, xmin=0, xmax=2, color='green')\n",
    "    if size > 5:\n",
    "        plt.yscale('log')\n",
    "    plt.legend(loc='best')\n",
    "    plt.title(\"Boxplot - Estimation of the number of latin square of Size \" + str(size), pad=20)\n",
    "    plt.show()"
   ]
  },
  {
   "cell_type": "code",
   "execution_count": 0,
   "metadata": {
    "colab": {
     "base_uri": "https://localhost:8080/",
     "height": 329
    },
    "colab_type": "code",
    "executionInfo": {
     "elapsed": 21034,
     "status": "ok",
     "timestamp": 1578412226908,
     "user": {
      "displayName": "Mehdi Bennaceur",
      "photoUrl": "",
      "userId": "06087535703550889065"
     },
     "user_tz": -60
    },
    "id": "-_HVXlYI-_Rc",
    "outputId": "259a22a9-964d-4207-b0b0-365d431668b5"
   },
   "outputs": [
    {
     "data": {
      "image/png": "[encoded data removed]",
      "text/plain": [
       "<Figure size 432x288 with 1 Axes>"
      ]
     },
     "metadata": {
      "tags": []
     },
     "output_type": "display_data"
    },
    {
     "name": "stdout",
     "output_type": "stream",
     "text": [
      "CPU times: user 19.9 s, sys: 15 ms, total: 19.9 s\n",
      "Wall time: 20 s\n"
     ]
    }
   ],
   "source": [
    "%%time \n",
    "est2 = get_estimates(100, 2, 100, 20)\n",
    "viz_estimate(est2, 2, 2)"
   ]
  },
  {
   "cell_type": "code",
   "execution_count": 0,
   "metadata": {
    "colab": {
     "base_uri": "https://localhost:8080/",
     "height": 329
    },
    "colab_type": "code",
    "executionInfo": {
     "elapsed": 41753,
     "status": "ok",
     "timestamp": 1578412248148,
     "user": {
      "displayName": "Mehdi Bennaceur",
      "photoUrl": "",
      "userId": "06087535703550889065"
     },
     "user_tz": -60
    },
    "id": "792WYT7Yv373",
    "outputId": "f9673448-dad0-4f1c-fa9c-e89aff72c856"
   },
   "outputs": [
    {
     "data": {
      "image/png": "[encoded data removed]",
      "text/plain": [
       "<Figure size 432x288 with 1 Axes>"
      ]
     },
     "metadata": {
      "tags": []
     },
     "output_type": "display_data"
    },
    {
     "name": "stdout",
     "output_type": "stream",
     "text": [
      "CPU times: user 21.3 s, sys: 28 ms, total: 21.3 s\n",
      "Wall time: 21.3 s\n"
     ]
    }
   ],
   "source": [
    "%%time \n",
    "est3 = get_estimates(100, 3, 100, 20)\n",
    "viz_estimate(est3, 3, 12)"
   ]
  },
  {
   "cell_type": "code",
   "execution_count": 0,
   "metadata": {
    "colab": {
     "base_uri": "https://localhost:8080/",
     "height": 329
    },
    "colab_type": "code",
    "executionInfo": {
     "elapsed": 24406,
     "status": "ok",
     "timestamp": 1578412317795,
     "user": {
      "displayName": "Mehdi Bennaceur",
      "photoUrl": "",
      "userId": "06087535703550889065"
     },
     "user_tz": -60
    },
    "id": "SzqyDoHUv35H",
    "outputId": "12f28481-dcb8-417d-b15e-c6f97bcf4873"
   },
   "outputs": [
    {
     "data": {
      "image/png": "[encoded data removed]",
      "text/plain": [
       "<Figure size 432x288 with 1 Axes>"
      ]
     },
     "metadata": {
      "tags": []
     },
     "output_type": "display_data"
    },
    {
     "name": "stdout",
     "output_type": "stream",
     "text": [
      "CPU times: user 23.4 s, sys: 9.93 ms, total: 23.4 s\n",
      "Wall time: 23.5 s\n"
     ]
    }
   ],
   "source": [
    "%%time \n",
    "est4 = get_estimates(100, 4, 100, 20)\n",
    "viz_estimate(est4, 4, 512)"
   ]
  },
  {
   "cell_type": "code",
   "execution_count": 0,
   "metadata": {
    "colab": {
     "base_uri": "https://localhost:8080/",
     "height": 329
    },
    "colab_type": "code",
    "executionInfo": {
     "elapsed": 47886,
     "status": "ok",
     "timestamp": 1578412342152,
     "user": {
      "displayName": "Mehdi Bennaceur",
      "photoUrl": "",
      "userId": "06087535703550889065"
     },
     "user_tz": -60
    },
    "id": "2bwPwENev32q",
    "outputId": "ab9fc896-8441-409d-fb04-a0934fd327a6"
   },
   "outputs": [
    {
     "data": {
      "image/png": "[encoded data removed]",
      "text/plain": [
       "<Figure size 432x288 with 1 Axes>"
      ]
     },
     "metadata": {
      "tags": []
     },
     "output_type": "display_data"
    },
    {
     "name": "stdout",
     "output_type": "stream",
     "text": [
      "CPU times: user 24.5 s, sys: 21 ms, total: 24.5 s\n",
      "Wall time: 24.6 s\n"
     ]
    }
   ],
   "source": [
    "%%time \n",
    "est5 = get_estimates(100, 5, 100, 20)\n",
    "viz_estimate(est5, 5, 161280)"
   ]
  },
  {
   "cell_type": "code",
   "execution_count": 0,
   "metadata": {
    "colab": {
     "base_uri": "https://localhost:8080/",
     "height": 329
    },
    "colab_type": "code",
    "executionInfo": {
     "elapsed": 28512,
     "status": "ok",
     "timestamp": 1578412609105,
     "user": {
      "displayName": "Mehdi Bennaceur",
      "photoUrl": "",
      "userId": "06087535703550889065"
     },
     "user_tz": -60
    },
    "id": "nDY-8O1Uv3zG",
    "outputId": "a4402b66-8565-47fb-dd29-f743ba62026a"
   },
   "outputs": [
    {
     "data": {
      "image/png": "[encoded data removed]",
      "text/plain": [
       "<Figure size 432x288 with 1 Axes>"
      ]
     },
     "metadata": {
      "tags": []
     },
     "output_type": "display_data"
    },
    {
     "name": "stdout",
     "output_type": "stream",
     "text": [
      "CPU times: user 27.2 s, sys: 17 ms, total: 27.2 s\n",
      "Wall time: 27.2 s\n"
     ]
    }
   ],
   "source": [
    "%%time \n",
    "est6 = get_estimates(100, 6, 100, 20)\n",
    "viz_estimate(est6, 6, 812851200)"
   ]
  },
  {
   "cell_type": "code",
   "execution_count": 0,
   "metadata": {
    "colab": {
     "base_uri": "https://localhost:8080/",
     "height": 329
    },
    "colab_type": "code",
    "executionInfo": {
     "elapsed": 29905,
     "status": "ok",
     "timestamp": 1578412653825,
     "user": {
      "displayName": "Mehdi Bennaceur",
      "photoUrl": "",
      "userId": "06087535703550889065"
     },
     "user_tz": -60
    },
    "id": "LBxfBwUCCI0z",
    "outputId": "c01ab63f-e4ef-4731-8601-2324ceff84cd"
   },
   "outputs": [
    {
     "data": {
      "image/png": "[encoded data removed]",
      "text/plain": [
       "<Figure size 432x288 with 1 Axes>"
      ]
     },
     "metadata": {
      "tags": []
     },
     "output_type": "display_data"
    },
    {
     "name": "stdout",
     "output_type": "stream",
     "text": [
      "CPU times: user 29 s, sys: 47 ms, total: 29.1 s\n",
      "Wall time: 29.1 s\n"
     ]
    }
   ],
   "source": [
    "%%time \n",
    "est7 = get_estimates(100, 7, 100, 20)\n",
    "viz_estimate(est7, 7, 61479419904000)"
   ]
  },
  {
   "cell_type": "code",
   "execution_count": 0,
   "metadata": {
    "colab": {
     "base_uri": "https://localhost:8080/",
     "height": 329
    },
    "colab_type": "code",
    "executionInfo": {
     "elapsed": 61097,
     "status": "ok",
     "timestamp": 1578412685800,
     "user": {
      "displayName": "Mehdi Bennaceur",
      "photoUrl": "",
      "userId": "06087535703550889065"
     },
     "user_tz": -60
    },
    "id": "3zItgfO2CIwp",
    "outputId": "56e5c362-6992-475d-b3f3-db2555aa9312"
   },
   "outputs": [
    {
     "data": {
      "image/png": "[encoded data removed]",
      "text/plain": [
       "<Figure size 432x288 with 1 Axes>"
      ]
     },
     "metadata": {
      "tags": []
     },
     "output_type": "display_data"
    },
    {
     "name": "stdout",
     "output_type": "stream",
     "text": [
      "CPU times: user 31.8 s, sys: 23 ms, total: 31.8 s\n",
      "Wall time: 31.9 s\n"
     ]
    }
   ],
   "source": [
    "%%time \n",
    "est8 = get_estimates(100, 8, 100, 20)\n",
    "viz_estimate(est8, 8, 108776032459082956800)"
   ]
  },
  {
   "cell_type": "code",
   "execution_count": 0,
   "metadata": {
    "colab": {
     "base_uri": "https://localhost:8080/",
     "height": 329
    },
    "colab_type": "code",
    "executionInfo": {
     "elapsed": 94461,
     "status": "ok",
     "timestamp": 1578412719876,
     "user": {
      "displayName": "Mehdi Bennaceur",
      "photoUrl": "",
      "userId": "06087535703550889065"
     },
     "user_tz": -60
    },
    "id": "5YK06en3CIrQ",
    "outputId": "0dd4c45b-a4eb-4283-f2b3-27b4f1f575c0"
   },
   "outputs": [
    {
     "data": {
      "image/png": "[encoded data removed]",
      "text/plain": [
       "<Figure size 432x288 with 1 Axes>"
      ]
     },
     "metadata": {
      "tags": []
     },
     "output_type": "display_data"
    },
    {
     "name": "stdout",
     "output_type": "stream",
     "text": [
      "CPU times: user 34 s, sys: 48 ms, total: 34.1 s\n",
      "Wall time: 34.1 s\n"
     ]
    }
   ],
   "source": [
    "%%time \n",
    "est9 = get_estimates(100, 9, 100, 20)\n",
    "viz_estimate(est9, 9, 5524751496156892842531225600)"
   ]
  },
  {
   "cell_type": "code",
   "execution_count": 0,
   "metadata": {
    "colab": {
     "base_uri": "https://localhost:8080/",
     "height": 329
    },
    "colab_type": "code",
    "executionInfo": {
     "elapsed": 130651,
     "status": "ok",
     "timestamp": 1578412756676,
     "user": {
      "displayName": "Mehdi Bennaceur",
      "photoUrl": "",
      "userId": "06087535703550889065"
     },
     "user_tz": -60
    },
    "id": "1kg0YoqYCIh0",
    "outputId": "9ee879b1-aeea-462d-d5f0-ca91f6588823"
   },
   "outputs": [
    {
     "data": {
      "image/png": "[encoded data removed]",
      "text/plain": [
       "<Figure size 432x288 with 1 Axes>"
      ]
     },
     "metadata": {
      "tags": []
     },
     "output_type": "display_data"
    },
    {
     "name": "stdout",
     "output_type": "stream",
     "text": [
      "CPU times: user 36.3 s, sys: 19 ms, total: 36.3 s\n",
      "Wall time: 36.4 s\n"
     ]
    }
   ],
   "source": [
    "%%time \n",
    "est10 = get_estimates(100, 10, 100, 20)\n",
    "viz_estimate(est10, 10, 9982437658213039871725064756920320000)"
   ]
  },
  {
   "cell_type": "code",
   "execution_count": 0,
   "metadata": {
    "colab": {
     "base_uri": "https://localhost:8080/",
     "height": 329
    },
    "colab_type": "code",
    "executionInfo": {
     "elapsed": 168303,
     "status": "ok",
     "timestamp": 1578412795025,
     "user": {
      "displayName": "Mehdi Bennaceur",
      "photoUrl": "",
      "userId": "06087535703550889065"
     },
     "user_tz": -60
    },
    "id": "GkZtxuhHisKN",
    "outputId": "bee638f2-d236-45fc-9e16-c33919bbb6ff"
   },
   "outputs": [
    {
     "data": {
      "image/png": "[encoded data removed]",
      "text/plain": [
       "<Figure size 432x288 with 1 Axes>"
      ]
     },
     "metadata": {
      "tags": []
     },
     "output_type": "display_data"
    },
    {
     "name": "stdout",
     "output_type": "stream",
     "text": [
      "CPU times: user 38.7 s, sys: 16 ms, total: 38.7 s\n",
      "Wall time: 38.8 s\n"
     ]
    }
   ],
   "source": [
    "%%time \n",
    "est11 = get_estimates(100, 11, 100, 20)\n",
    "viz_estimate(est11, 11, 776966836171770144107444346734230682311065600000)"
   ]
  },
  {
   "cell_type": "markdown",
   "metadata": {
    "colab_type": "text",
    "id": "zVjsNsdsjoXj"
   },
   "source": [
    "Les echelles des valeurs valeurs étant très grandes, nous pouvons regarder les ratios entre valeurs estimée et valeurs réelles pour avoir une meilleure idée de l'erreur comise. Notre estimateur est pris comme la mediane des estimateurs sur 100 itérations de l'algorithme."
   ]
  },
  {
   "cell_type": "code",
   "execution_count": 0,
   "metadata": {
    "colab": {},
    "colab_type": "code",
    "id": "ddEgX886isYs"
   },
   "outputs": [],
   "source": [
    "err11 = np.median(est11)/776966836171770144107444346734230682311065600000\n",
    "err10 = np.median(est10)/9982437658213039871725064756920320000\n",
    "err9 = np.median(est9)/5524751496156892842531225600\n",
    "err8 = np.median(est8)/108776032459082956800\n",
    "err7 = np.median(est7)/61479419904000\n",
    "err6 = np.median(est6)/812851200\n",
    "err5 = np.median(est5)/161280\n",
    "err4 = np.median(est4)/576\n",
    "err3 = np.median(est3)/12\n",
    "err2 = np.median(est2)/2"
   ]
  },
  {
   "cell_type": "code",
   "execution_count": 0,
   "metadata": {
    "colab": {
     "base_uri": "https://localhost:8080/",
     "height": 185
    },
    "colab_type": "code",
    "executionInfo": {
     "elapsed": 924,
     "status": "ok",
     "timestamp": 1578410369739,
     "user": {
      "displayName": "Mehdi Bennaceur",
      "photoUrl": "",
      "userId": "06087535703550889065"
     },
     "user_tz": -60
    },
    "id": "i5Wf8aMLlOxN",
    "outputId": "4e224451-7d2b-4e4f-e014-da88862c341c"
   },
   "outputs": [
    {
     "name": "stdout",
     "output_type": "stream",
     "text": [
      "Ratio estimator over true value for size 2 : 0.646004837698544\n",
      "Ratio estimator over true value for size 3 : 0.6592541422243982\n",
      "Ratio estimator over true value for size 4 : 0.3134923974803898\n",
      "Ratio estimator over true value for size 5 : 0.3189446120221093\n",
      "Ratio estimator over true value for size 6 : 0.5195107296284337\n",
      "Ratio estimator over true value for size 7 : 1.3800546164932208\n",
      "Ratio estimator over true value for size 8 : 9.252102741816804\n",
      "Ratio estimator over true value for size 9 : 38.322062055357115\n",
      "Ratio estimator over true value for size 10 : 482.63617309612044\n",
      "Ratio estimator over true value for size 11 : 18780.302925405926\n"
     ]
    }
   ],
   "source": [
    "print(\"Ratio estimator over true value for size 2 :\", err2)\n",
    "print(\"Ratio estimator over true value for size 3 :\", err3)\n",
    "print(\"Ratio estimator over true value for size 4 :\", err4)\n",
    "print(\"Ratio estimator over true value for size 5 :\", err5)\n",
    "print(\"Ratio estimator over true value for size 6 :\", err6)\n",
    "print(\"Ratio estimator over true value for size 7 :\", err7)\n",
    "print(\"Ratio estimator over true value for size 8 :\", err8)\n",
    "print(\"Ratio estimator over true value for size 9 :\", err9)\n",
    "print(\"Ratio estimator over true value for size 10 :\", err10)\n",
    "print(\"Ratio estimator over true value for size 11 :\", err11)"
   ]
  },
  {
   "cell_type": "code",
   "execution_count": 0,
   "metadata": {
    "colab": {
     "base_uri": "https://localhost:8080/",
     "height": 34
    },
    "colab_type": "code",
    "executionInfo": {
     "elapsed": 1148,
     "status": "ok",
     "timestamp": 1578416206687,
     "user": {
      "displayName": "Mehdi Bennaceur",
      "photoUrl": "",
      "userId": "06087535703550889065"
     },
     "user_tz": -60
    },
    "id": "Y_Bo3bKm6QW4",
    "outputId": "57418f92-f16a-4e51-b8ea-5b21a17098ac"
   },
   "outputs": [
    {
     "data": {
      "text/plain": [
       "1.9664335478580416e+52"
      ]
     },
     "execution_count": 64,
     "metadata": {
      "tags": []
     },
     "output_type": "execute_result"
    }
   ],
   "source": [
    "%%time \n",
    "l = LatinSquarePTemp(11, 100)\n",
    "for t in range(1000):\n",
    "    l.smc_temp(20)\n",
    "l.compute_estimate()"
   ]
  },
  {
   "cell_type": "code",
   "execution_count": 0,
   "metadata": {
    "colab": {
     "base_uri": "https://localhost:8080/",
     "height": 50
    },
    "colab_type": "code",
    "executionInfo": {
     "elapsed": 388332,
     "status": "ok",
     "timestamp": 1578416620606,
     "user": {
      "displayName": "Mehdi Bennaceur",
      "photoUrl": "",
      "userId": "06087535703550889065"
     },
     "user_tz": -60
    },
    "id": "FCWBdZ1E7ZkX",
    "outputId": "956ef8b4-27f0-4f69-daba-b8fb1c3669a5"
   },
   "outputs": [
    {
     "name": "stdout",
     "output_type": "stream",
     "text": [
      "CPU times: user 6min 20s, sys: 5.95 s, total: 6min 26s\n",
      "Wall time: 6min 26s\n"
     ]
    }
   ],
   "source": [
    "%%time \n",
    "l = LatinSquarePTemp(11, 100)\n",
    "for t in range(1000):\n",
    "    l.smc_temp(20)\n",
    "l.compute_estimate()"
   ]
  },
  {
   "cell_type": "code",
   "execution_count": 0,
   "metadata": {
    "colab": {
     "base_uri": "https://localhost:8080/",
     "height": 34
    },
    "colab_type": "code",
    "executionInfo": {
     "elapsed": 555,
     "status": "ok",
     "timestamp": 1578416636840,
     "user": {
      "displayName": "Mehdi Bennaceur",
      "photoUrl": "",
      "userId": "06087535703550889065"
     },
     "user_tz": -60
    },
    "id": "FZL00nkb9mIN",
    "outputId": "ddf7d0ac-8ada-4464-8d03-cb8eb6e66ea1"
   },
   "outputs": [
    {
     "data": {
      "text/plain": [
       "9.319824885444723e+52"
      ]
     },
     "execution_count": 66,
     "metadata": {
      "tags": []
     },
     "output_type": "execute_result"
    }
   ],
   "source": [
    "l.compute_estimate()"
   ]
  },
  {
   "cell_type": "markdown",
   "metadata": {
    "colab_type": "text",
    "id": "eRtcNIMJHCvh"
   },
   "source": [
    "**Conclusion** \\\\\n",
    "On remarque que cette méthode est moins précise pour les petites dimensions (en gardant des temps de calculs rapides) mais donne beaucoup plus de satisfaction pour les dimensions 5 et 6. \\\\\n",
    "Nos expériences montrent que, comme expliqué en cours, le choix de la séquence des lambda est crucial, il a un fort impact sur la performance. Nous l'avons choisit empiriquement par taton."
   ]
  },
  {
   "cell_type": "markdown",
   "metadata": {
    "colab_type": "text",
    "id": "JdQN7DKfv4xG"
   },
   "source": [
    "# Méthode IBIS"
   ]
  },
  {
   "cell_type": "markdown",
   "metadata": {
    "colab_type": "text",
    "id": "fbiSxLObzVcC"
   },
   "source": [
    "**Méthodologie** \n",
    "Nous présentons ici notre algorithme IBIS où nous utilisons la même méthode pour générer de nouvelles matrices et la même fonction de pénalisation. Nous prenons comme poids $w_t^n = e^{-\\lambda_{t}*S(M)}$\n",
    "* 1) **Initialisation : t = 0** : \n",
    "\n",
    "*   Générer $\\Theta_0^n \\sim M_0(dx_0)$\n",
    "*   Calculer $w_0^n$ = $G_0(\\Theta_0^n)$ et $W_0^n = \\frac{w_0^n}{\\sum_{m=0}^{N}w_0^m}$ et $l_0^N = \\frac{1}{N}\\sum_{n=1}^Nw_0^n$\n",
    "\n",
    "On tire une matrice initialisée qui est une permutation. A partir de ça, on génère des poids. $G$ est le noyau. $N$ est le nombre de particules (nombre de matrices sur lequel on applique la procédure). \n",
    "\n",
    "\n",
    "* 2) **Itérativement pour t = 1,...,T** : \n",
    "\n",
    "*   Si le critère de dégénérescence n'est pas rempli, $ESS > \\frac{N}{2} $ : \n",
    "      * 1) Poser $\\Theta_t^n$ = $\\Theta_{t-1}^n$ \n",
    "      * 2) Calculer $w_t^n$ = $w_{t-1}^nG(\\Theta_t^n)$, $W_t^n = \\frac{w_t^n}{\\sum_{m=0}^{N}w_t^m}$ et  $l_t^N = \\frac{1}{N}\\sum_{n=1}^Nw_t^n$\n",
    "\n",
    "*   Si le critère de dégénérescence est rempli, $ESS \\leq \\frac{N}{2} $ :  \n",
    "      * 1) Générer des ancêtres $A_t^n \\in 1:N$ indépendamment avec $M(W_{t-1}^{1:N})$ ($M$ correspond à une loi multinomiale) \n",
    "      * 2) Générer $\\Theta_t^n \\sim M_t$($\\Theta_{t-1}^{A_t^n}$,$d\\theta$) \n",
    "      * 3) Calculer $w_t^n$ = $G(\\Theta_t^n)$, $W_t^n = \\frac{w_t^n}{\\sum_{m=0}^{N}w_t^m}$ et  $l_t^N = \\frac{1}{N}\\sum_{n=1}^Nw_t^n$\n",
    "\n",
    "  A cette étape, pour chacune des itérations, on calcule l'ESS (qui se définit comme ESS = $\\frac{1}{\\sum_{n=1}^N (W_t^n)^2}$) et on applique la procédure. A chaque étape on calcule un $L_t$ à partir du $l_t$ (moyenne des poids). On calcule ensuite le $P$ qui est la proportion de carrés latins pour la dimension souhaitée. La constance $C$ est un estimateur du nombre de carrés latins. \n",
    "      \n",
    "**Calcul constante normalisation** \n",
    "Une fois l'algorithme terminé, On calcule notre constante C : \n",
    "* 1) $L_t$ = $\\frac{1}{l_t^N}$\n",
    "* 2) P = $\\prod_{i=1}^T\\frac{L_{i-1}}{L_{i}}$ \n",
    "* 3) C = $k!^k*P$\n",
    "\n",
    "C : l'estimateur du nombre de carrés latins. \n",
    "Les poids  = la pénalisation (éloignement du fait d'être un carré latin). A l'étape suivante, on a une probabilité suivante plus importante de choisir une matrice avec poids élevés.\n"
   ]
  },
  {
   "cell_type": "code",
   "execution_count": 0,
   "metadata": {
    "colab": {},
    "colab_type": "code",
    "id": "cNWtOslEzWQ3"
   },
   "outputs": [],
   "source": [
    "class LatinSquareSMC:\n",
    "    \"\"\" size : int, size of latin square. k for k X k squares.\n",
    "        sample_size : number of particules at time 0\n",
    "    \"\"\"\n",
    "\n",
    "    def __init__(self, size, sample_size):\n",
    "        self.size = size \n",
    "        self.sample = np.array([list(np.random.permutation(size) for i in range(size)) for n in range(sample_size)])\n",
    "        self.estimators = []\n",
    "        self.sample_size = sample_size\n",
    "        self.ess = []\n",
    "        self.true_values = {2:2, 3:12, 4:576, 5:161280, 6:812851200, 7:61479419904000, 8:108776032459082956800, 9:5524751496156892842531225600, \n",
    "                            10:9982437658213039871725064756920320000, 11:776966836171770144107444346734230682311065600000}\n",
    "\n",
    "    def S(self, square):\n",
    "       \n",
    "        s = 0\n",
    "        for j in range(self.size):\n",
    "            n_unique = len(set(square[:, j]))\n",
    "            s += self.size - n_unique \n",
    "        return s \n",
    "\n",
    "    def G(self, square, lbd):\n",
    "        \n",
    "        return np.exp( - lbd * self.S(square))\n",
    "\n",
    "    def init_weights(self, lbd):\n",
    "        \n",
    "        self.weights = np.array([self.G(self.sample[i], lbd) for i in range(self.sample_size)])\n",
    "        self.normalized_weights = self.weights / np.sum(self.weights)\n",
    "        self.ess.append(1./ np.sum(np.square(self.normalized_weights)))\n",
    "\n",
    "    def update_weights(self, lbd, degen=False):\n",
    "        \n",
    "        if degen: \n",
    "            new_weights = np.array([self.G(self.sample[i], lbd) * self.weights[i] for i in range(self.sample_size)])\n",
    "            self.weights = new_weights\n",
    "            self.normalized_weights = self.weights / np.sum(self.weights)\n",
    "        else:\n",
    "            self.weights = np.array([self.G(self.sample[i], lbd) for i in range(self.sample_size)])\n",
    "            self.normalized_weights = self.weights / np.sum(self.weights)\n",
    "    \n",
    "    def L_estimator(self):\n",
    "        \n",
    "        self.estimators.append(np.mean(self.weights))\n",
    "\n",
    "    def get_cell(self, point, square):\n",
    "        \n",
    "        return square[point[0], point[1]]\n",
    "\n",
    "    def set_cell(self, point, value, square):\n",
    "       \n",
    "        square[point[0], point[1]] = value\n",
    "        return square \n",
    "\n",
    "    def M_kernel(self, square, new_lbd, old_lbd):\n",
    "        idx = [i for i in range(self.size)]\n",
    "        cols = np.random.choice(idx, 2, replace = False)\n",
    "        row = np.array(list(np.random.choice(idx, 1)) * 2)\n",
    "        positions = list(zip(row, cols))\n",
    "        v1, v2 = square[row[0], cols[0]], square[row[1], cols[1]]\n",
    "        new_square = square.copy()\n",
    "        new_square[row[0], cols[0]] = v2\n",
    "        new_square[row[1], cols[1]] = v1\n",
    "        \n",
    "        old_energy = self.S(square)\n",
    "        new_energy = self.S(new_square)\n",
    "        acceptance = min(1, np.exp(- (new_lbd - old_lbd) * (old_energy - new_energy)))\n",
    "        \n",
    "        u = np.random.uniform()\n",
    "        if u <= acceptance:\n",
    "            return new_square\n",
    "        return square\n",
    "    \n",
    "    def transition(self, old_lbd, new_lbd):\n",
    "       \n",
    "        ancestors = np.random.multinomial(self.sample_size, list(self.normalized_weights))\n",
    "        #les carrés qui ont des grands poids vont avoir plus d'enfants que les autres \n",
    "        new_sample = []\n",
    "        for i in range(self.sample_size):\n",
    "            for k in range(ancestors[i]):\n",
    "                new_sample.append(self.M_kernel(self.sample[i], new_lbd, old_lbd))\n",
    "        self.sample = np.array(new_sample)\n",
    "\n",
    "    def move_forward(self, n_iter, lbd):\n",
    "        \n",
    "        self.mcmc_step = 0\n",
    "        lbds = [0, 0.001, 0.009, 0.0015, 0.00243, 0.0030, 0.0035, 0.0044, 0.0053, 0.0072, 0.0111, 0.02, 0.025, 0.03, 0.05, 0.067, 0.08, 0.14, 0.37, 0.6, 1, 1.6, 1.8, 2]\n",
    "        t_l = 1\n",
    "        for t in range(1, n_iter):\n",
    "            if t_l == len(lbds):\n",
    "                break\n",
    "            if self.ess[-1] <= self.sample_size/2: #DEGENERANCY SATISFIED\n",
    "                self.transition(lbds[t_l-1], lbds[t_l])\n",
    "                self.update_weights(lbds[t_l], degen=False)\n",
    "                self.L_estimator()\n",
    "                self.mcmc_step += 1\n",
    "                t_l += 1\n",
    "            else:\n",
    "                self.sample = self.sample #theta_(t) = theta_(t-1)\n",
    "                self.update_weights(lbds[t_l], degen=True)\n",
    "                self.L_estimator()\n",
    "                self.ess.append(1./ (np.sum(np.square(self.normalized_weights) + 1e-6)))\n",
    "    \n",
    "    def compute_estimate(self, diag=False):\n",
    "        lts = np.array(self.estimators)\n",
    "        lts = np.array([e for e in lts if e > 1e-50])\n",
    "        lts = 1/lts\n",
    "        prod = 1\n",
    "        for i in range(1, len(lts)):\n",
    "            prod *=  lts[i]/lts[i-1] \n",
    "\n",
    "        estimate = prod * (math.factorial(self.size)**self.size)\n",
    "        #print(\"Estimate is :\", estimate)\n",
    "        if diag:\n",
    "            print(\"---- Diagnosis ----\")\n",
    "            print(\"Number of MCMC step :\", self.mcmc_step)\n",
    "            print(\"________________\")\n",
    "            plt.plot(self.ess, label=\"ESS\")\n",
    "            plt.axhline(y=self.sample_size/2, color='r', linestyle='-', label=\"Resampling treshold\")\n",
    "            plt.legend()\n",
    "            plt.xlabel(\"Iteration\")\n",
    "            plt.ylabel(\"ESS\")\n",
    "            plt.title(\"ESS\")\n",
    "            plt.show()\n",
    "            print(\"________________\")\n",
    "            print(\"Proportion estimated is :\", prod)\n",
    "            if self.size in self.true_values:\n",
    "                print(\"True proportion is :\", self.true_values[self.size]/(math.factorial(self.size)**self.size))\n",
    "        return estimate"
   ]
  },
  {
   "cell_type": "code",
   "execution_count": 68,
   "metadata": {
    "colab": {
     "base_uri": "https://localhost:8080/",
     "height": 413
    },
    "colab_type": "code",
    "executionInfo": {
     "elapsed": 2587,
     "status": "ok",
     "timestamp": 1578476647604,
     "user": {
      "displayName": "Mehdi Bennaceur",
      "photoUrl": "",
      "userId": "06087535703550889065"
     },
     "user_tz": -60
    },
    "id": "sdnMIWdVcR9s",
    "outputId": "afd23f23-989b-4799-b28c-27282bb58733"
   },
   "outputs": [
    {
     "name": "stdout",
     "output_type": "stream",
     "text": [
      "---- Diagnosis ----\n",
      "Number of MCMC step : 6\n",
      "________________\n"
     ]
    },
    {
     "data": {
      "image/png": "[encoded data removed]",
      "text/plain": [
       "<Figure size 432x288 with 1 Axes>"
      ]
     },
     "metadata": {
      "tags": []
     },
     "output_type": "display_data"
    },
    {
     "name": "stdout",
     "output_type": "stream",
     "text": [
      "________________\n",
      "Proportion estimated is : 1.3959223699587986\n",
      "True proportion is : 0.001736111111111111\n"
     ]
    },
    {
     "data": {
      "text/plain": [
       "463133.54021545034"
      ]
     },
     "execution_count": 68,
     "metadata": {
      "tags": []
     },
     "output_type": "execute_result"
    }
   ],
   "source": [
    "l = LatinSquareSMC(4, 100)\n",
    "l.init_weights(0)\n",
    "l.move_forward(2000, 1)\n",
    "l.compute_estimate(diag=True)"
   ]
  },
  {
   "cell_type": "code",
   "execution_count": 69,
   "metadata": {
    "colab": {
     "base_uri": "https://localhost:8080/",
     "height": 413
    },
    "colab_type": "code",
    "executionInfo": {
     "elapsed": 3217,
     "status": "ok",
     "timestamp": 1578476651071,
     "user": {
      "displayName": "Mehdi Bennaceur",
      "photoUrl": "",
      "userId": "06087535703550889065"
     },
     "user_tz": -60
    },
    "id": "GDR0ZkM3icoN",
    "outputId": "c02492b9-4b02-4de4-c5db-11903033410c"
   },
   "outputs": [
    {
     "name": "stdout",
     "output_type": "stream",
     "text": [
      "---- Diagnosis ----\n",
      "Number of MCMC step : 23\n",
      "________________\n"
     ]
    },
    {
     "data": {
      "image/png": "[encoded data removed]",
      "text/plain": [
       "<Figure size 432x288 with 1 Axes>"
      ]
     },
     "metadata": {
      "tags": []
     },
     "output_type": "display_data"
    },
    {
     "name": "stdout",
     "output_type": "stream",
     "text": [
      "________________\n",
      "Proportion estimated is : 487.2076067633743\n",
      "True proportion is : 6.481481481481481e-06\n"
     ]
    },
    {
     "data": {
      "text/plain": [
       "12123284320614.396"
      ]
     },
     "execution_count": 69,
     "metadata": {
      "tags": []
     },
     "output_type": "execute_result"
    }
   ],
   "source": [
    "l = LatinSquareSMC(5, 100)\n",
    "l.init_weights(0)\n",
    "l.move_forward(2000, 1)\n",
    "l.compute_estimate(diag=True)"
   ]
  },
  {
   "cell_type": "code",
   "execution_count": 71,
   "metadata": {
    "colab": {
     "base_uri": "https://localhost:8080/",
     "height": 413
    },
    "colab_type": "code",
    "executionInfo": {
     "elapsed": 3475,
     "status": "ok",
     "timestamp": 1578477165620,
     "user": {
      "displayName": "Mehdi Bennaceur",
      "photoUrl": "",
      "userId": "06087535703550889065"
     },
     "user_tz": -60
    },
    "id": "JDIExK4picug",
    "outputId": "afe1810b-fe8a-4dfe-f78a-5ed6345e4e7c"
   },
   "outputs": [
    {
     "name": "stdout",
     "output_type": "stream",
     "text": [
      "---- Diagnosis ----\n",
      "Number of MCMC step : 23\n",
      "________________\n"
     ]
    },
    {
     "data": {
      "image/png": "[encoded data removed]",
      "text/plain": [
       "<Figure size 432x288 with 1 Axes>"
      ]
     },
     "metadata": {
      "tags": []
     },
     "output_type": "display_data"
    },
    {
     "name": "stdout",
     "output_type": "stream",
     "text": [
      "________________\n",
      "Proportion estimated is : 551.5727862224425\n",
      "True proportion is : 5.8346669714982474e-09\n"
     ]
    },
    {
     "data": {
      "text/plain": [
       "7.684184947630829e+19"
      ]
     },
     "execution_count": 71,
     "metadata": {
      "tags": []
     },
     "output_type": "execute_result"
    }
   ],
   "source": [
    "l = LatinSquareSMC(6, 100)\n",
    "l.init_weights(0)\n",
    "l.move_forward(2000, 1)\n",
    "l.compute_estimate(diag=True)"
   ]
  },
  {
   "cell_type": "markdown",
   "metadata": {
    "colab_type": "text",
    "id": "C1Q0T9WiH0qo"
   },
   "source": [
    "**Conclusion** \n",
    "Nos résultats pour cet algorithme sont absurdes, c'est pourquoi nous suspectons une mauvaise implémentation de la méthode. Nous n'avons pas réussi à régler ce problème."
   ]
  }
 ],
 "metadata": {
  "accelerator": "GPU",
  "colab": {
   "collapsed_sections": [],
   "name": "PROJET_MCMC_BENNACEUR_MARCK_ANE.ipynb",
   "provenance": []
  },
  "kernelspec": {
   "display_name": "Python 3",
   "language": "python",
   "name": "python3"
  },
  "language_info": {
   "codemirror_mode": {
    "name": "ipython",
    "version": 3
   },
   "file_extension": ".py",
   "mimetype": "text/x-python",
   "name": "python",
   "nbconvert_exporter": "python",
   "pygments_lexer": "ipython3",
   "version": "3.7.1"
  }
 },
 "nbformat": 4,
 "nbformat_minor": 1
}
